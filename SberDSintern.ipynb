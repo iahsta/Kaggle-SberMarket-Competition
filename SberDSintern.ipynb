{
 "cells": [
  {
   "cell_type": "code",
   "execution_count": 1,
   "id": "f0aebd7c",
   "metadata": {},
   "outputs": [],
   "source": [
    "import numpy as np\n",
    "import pandas as pd\n",
    "from sklearn.linear_model import LogisticRegression\n",
    "from sklearn.model_selection import GridSearchCV, StratifiedKFold,cross_val_score, RandomizedSearchCV, train_test_split\n",
    "from sklearn.metrics import classification_report, f1_score\n",
    "from sklearn.ensemble import BaggingClassifier, RandomForestClassifier"
   ]
  },
  {
   "cell_type": "code",
   "execution_count": 2,
   "id": "a8e4e9b7",
   "metadata": {},
   "outputs": [],
   "source": [
    "import lightgbm as lgb\n",
    "from lightgbm import LGBMClassifier"
   ]
  },
  {
   "cell_type": "code",
   "execution_count": 54,
   "id": "9eff3604",
   "metadata": {},
   "outputs": [],
   "source": [
    "data = pd.read_csv('C:/Users/bydag/Downloads/train.csv')\n",
    "sub = pd.read_csv('C:/Users/bydag/Downloads/sample_submission.csv')"
   ]
  },
  {
   "cell_type": "code",
   "execution_count": 4,
   "id": "c77ad1c4",
   "metadata": {},
   "outputs": [
    {
     "name": "stdout",
     "output_type": "stream",
     "text": [
      "   user_id   order_completed_at  cart\n",
      "0        2  2015-03-22 09:25:46   399\n",
      "1        2  2015-03-22 09:25:46    14\n",
      "2        2  2015-03-22 09:25:46   198\n",
      "3        2  2015-03-22 09:25:46    88\n",
      "4        2  2015-03-22 09:25:46   157\n",
      "(3123064, 3)\n"
     ]
    }
   ],
   "source": [
    "print(data.head())\n",
    "print(data.shape)"
   ]
  },
  {
   "cell_type": "markdown",
   "id": "894b4fef",
   "metadata": {},
   "source": [
    "## Создание датафрейма для работы"
   ]
  },
  {
   "cell_type": "code",
   "execution_count": 5,
   "id": "bd4c4673",
   "metadata": {},
   "outputs": [],
   "source": [
    "# Создаем столбец с номером заказа для кажого юзера\n",
    "data_grouped = data.groupby(['user_id','order_completed_at'],as_index=False).sum()\n",
    "data_grouped['order_number'] = data.groupby(['user_id','order_completed_at'],as_index=False).cumcount()\n",
    "data = data.merge(data_grouped, on=['user_id','order_completed_at'],how='left')\n",
    "data = data.drop('cart_y',axis=1)"
   ]
  },
  {
   "cell_type": "markdown",
   "id": "c0eefe9b",
   "metadata": {},
   "source": [
    "Надо создать таргетную переменную, для каждого юзера, входят ли его товары в его последний заказ"
   ]
  },
  {
   "cell_type": "code",
   "execution_count": 6,
   "id": "005fe584",
   "metadata": {},
   "outputs": [],
   "source": [
    "# Для этого сначала создаем столбец, где True, если заказ пользователя последний\n",
    "data['is_max_order_number'] = data.groupby('user_id')['order_number'].transform('max') == data['order_number']"
   ]
  },
  {
   "cell_type": "code",
   "execution_count": 7,
   "id": "ce38046b",
   "metadata": {},
   "outputs": [],
   "source": [
    "# Создаем столбец, в котором для каждой строки отражается список категорий из последнего заказа пользователя\n",
    "last_order = data[data['is_max_order_number'] == True]\n",
    "last_order_grouped = last_order.groupby(['user_id', 'order_number'])['cart_x'].apply(list)"
   ]
  },
  {
   "cell_type": "code",
   "execution_count": 8,
   "id": "cabec0e8",
   "metadata": {},
   "outputs": [
    {
     "data": {
      "text/html": [
       "<div>\n",
       "<style scoped>\n",
       "    .dataframe tbody tr th:only-of-type {\n",
       "        vertical-align: middle;\n",
       "    }\n",
       "\n",
       "    .dataframe tbody tr th {\n",
       "        vertical-align: top;\n",
       "    }\n",
       "\n",
       "    .dataframe thead th {\n",
       "        text-align: right;\n",
       "    }\n",
       "</style>\n",
       "<table border=\"1\" class=\"dataframe\">\n",
       "  <thead>\n",
       "    <tr style=\"text-align: right;\">\n",
       "      <th></th>\n",
       "      <th>user_id</th>\n",
       "      <th>order_completed_at</th>\n",
       "      <th>cart_x_x</th>\n",
       "      <th>order_number</th>\n",
       "      <th>is_max_order_number</th>\n",
       "      <th>cart_x_y</th>\n",
       "    </tr>\n",
       "  </thead>\n",
       "  <tbody>\n",
       "    <tr>\n",
       "      <th>0</th>\n",
       "      <td>2</td>\n",
       "      <td>2015-03-22 09:25:46</td>\n",
       "      <td>399</td>\n",
       "      <td>12</td>\n",
       "      <td>False</td>\n",
       "      <td>[54, 432, 43, 197, 430, 23, 22, 15, 380, 5, 0,...</td>\n",
       "    </tr>\n",
       "    <tr>\n",
       "      <th>1</th>\n",
       "      <td>2</td>\n",
       "      <td>2015-03-22 09:25:46</td>\n",
       "      <td>14</td>\n",
       "      <td>12</td>\n",
       "      <td>False</td>\n",
       "      <td>[54, 432, 43, 197, 430, 23, 22, 15, 380, 5, 0,...</td>\n",
       "    </tr>\n",
       "    <tr>\n",
       "      <th>2</th>\n",
       "      <td>2</td>\n",
       "      <td>2015-03-22 09:25:46</td>\n",
       "      <td>198</td>\n",
       "      <td>12</td>\n",
       "      <td>False</td>\n",
       "      <td>[54, 432, 43, 197, 430, 23, 22, 15, 380, 5, 0,...</td>\n",
       "    </tr>\n",
       "    <tr>\n",
       "      <th>3</th>\n",
       "      <td>2</td>\n",
       "      <td>2015-03-22 09:25:46</td>\n",
       "      <td>88</td>\n",
       "      <td>12</td>\n",
       "      <td>False</td>\n",
       "      <td>[54, 432, 43, 197, 430, 23, 22, 15, 380, 5, 0,...</td>\n",
       "    </tr>\n",
       "    <tr>\n",
       "      <th>4</th>\n",
       "      <td>2</td>\n",
       "      <td>2015-03-22 09:25:46</td>\n",
       "      <td>157</td>\n",
       "      <td>12</td>\n",
       "      <td>False</td>\n",
       "      <td>[54, 432, 43, 197, 430, 23, 22, 15, 380, 5, 0,...</td>\n",
       "    </tr>\n",
       "  </tbody>\n",
       "</table>\n",
       "</div>"
      ],
      "text/plain": [
       "   user_id   order_completed_at  cart_x_x  order_number  is_max_order_number  \\\n",
       "0        2  2015-03-22 09:25:46       399            12                False   \n",
       "1        2  2015-03-22 09:25:46        14            12                False   \n",
       "2        2  2015-03-22 09:25:46       198            12                False   \n",
       "3        2  2015-03-22 09:25:46        88            12                False   \n",
       "4        2  2015-03-22 09:25:46       157            12                False   \n",
       "\n",
       "                                            cart_x_y  \n",
       "0  [54, 432, 43, 197, 430, 23, 22, 15, 380, 5, 0,...  \n",
       "1  [54, 432, 43, 197, 430, 23, 22, 15, 380, 5, 0,...  \n",
       "2  [54, 432, 43, 197, 430, 23, 22, 15, 380, 5, 0,...  \n",
       "3  [54, 432, 43, 197, 430, 23, 22, 15, 380, 5, 0,...  \n",
       "4  [54, 432, 43, 197, 430, 23, 22, 15, 380, 5, 0,...  "
      ]
     },
     "execution_count": 8,
     "metadata": {},
     "output_type": "execute_result"
    }
   ],
   "source": [
    "# Джойним к таблице столбец со списками категорий из последних заказов для каждого пользователя\n",
    "data = data.merge(last_order_grouped, on=['user_id'],how='left')\n",
    "data.head()"
   ]
  },
  {
   "cell_type": "code",
   "execution_count": 9,
   "id": "036c655e",
   "metadata": {},
   "outputs": [],
   "source": [
    "#Немного долго, создаем таргетную переменную (принимает значение 1, если категория есть в последнем заказе и ноль, если нет)\n",
    "data['target'] = data.apply(lambda x: 1 if str(x['cart_x_x']) in str(x['cart_x_y']) else 0, axis=1)"
   ]
  },
  {
   "cell_type": "code",
   "execution_count": 10,
   "id": "61b88b09",
   "metadata": {},
   "outputs": [
    {
     "data": {
      "text/html": [
       "<div>\n",
       "<style scoped>\n",
       "    .dataframe tbody tr th:only-of-type {\n",
       "        vertical-align: middle;\n",
       "    }\n",
       "\n",
       "    .dataframe tbody tr th {\n",
       "        vertical-align: top;\n",
       "    }\n",
       "\n",
       "    .dataframe thead th {\n",
       "        text-align: right;\n",
       "    }\n",
       "</style>\n",
       "<table border=\"1\" class=\"dataframe\">\n",
       "  <thead>\n",
       "    <tr style=\"text-align: right;\">\n",
       "      <th></th>\n",
       "      <th>user_id</th>\n",
       "      <th>order_completed_at</th>\n",
       "      <th>cart_x_x</th>\n",
       "      <th>order_number</th>\n",
       "      <th>target</th>\n",
       "    </tr>\n",
       "  </thead>\n",
       "  <tbody>\n",
       "    <tr>\n",
       "      <th>0</th>\n",
       "      <td>2</td>\n",
       "      <td>2015-03-22 09:25:46</td>\n",
       "      <td>399</td>\n",
       "      <td>12</td>\n",
       "      <td>0</td>\n",
       "    </tr>\n",
       "    <tr>\n",
       "      <th>1</th>\n",
       "      <td>2</td>\n",
       "      <td>2015-03-22 09:25:46</td>\n",
       "      <td>14</td>\n",
       "      <td>12</td>\n",
       "      <td>0</td>\n",
       "    </tr>\n",
       "    <tr>\n",
       "      <th>2</th>\n",
       "      <td>2</td>\n",
       "      <td>2015-03-22 09:25:46</td>\n",
       "      <td>198</td>\n",
       "      <td>12</td>\n",
       "      <td>0</td>\n",
       "    </tr>\n",
       "    <tr>\n",
       "      <th>3</th>\n",
       "      <td>2</td>\n",
       "      <td>2015-03-22 09:25:46</td>\n",
       "      <td>88</td>\n",
       "      <td>12</td>\n",
       "      <td>0</td>\n",
       "    </tr>\n",
       "    <tr>\n",
       "      <th>4</th>\n",
       "      <td>2</td>\n",
       "      <td>2015-03-22 09:25:46</td>\n",
       "      <td>157</td>\n",
       "      <td>12</td>\n",
       "      <td>0</td>\n",
       "    </tr>\n",
       "  </tbody>\n",
       "</table>\n",
       "</div>"
      ],
      "text/plain": [
       "   user_id   order_completed_at  cart_x_x  order_number  target\n",
       "0        2  2015-03-22 09:25:46       399            12       0\n",
       "1        2  2015-03-22 09:25:46        14            12       0\n",
       "2        2  2015-03-22 09:25:46       198            12       0\n",
       "3        2  2015-03-22 09:25:46        88            12       0\n",
       "4        2  2015-03-22 09:25:46       157            12       0"
      ]
     },
     "execution_count": 10,
     "metadata": {},
     "output_type": "execute_result"
    }
   ],
   "source": [
    "#Оставляем только не последние заказы и дропаем лишние переменные\n",
    "data_train = data[data['is_max_order_number']==False]\n",
    "data_train = data_train.drop(['cart_x_y','is_max_order_number'],axis=1)\n",
    "data_train.head()"
   ]
  },
  {
   "cell_type": "code",
   "execution_count": 11,
   "id": "a1173118",
   "metadata": {},
   "outputs": [
    {
     "data": {
      "text/plain": [
       "(2835076, 5)"
      ]
     },
     "execution_count": 11,
     "metadata": {},
     "output_type": "execute_result"
    }
   ],
   "source": [
    "# Проверяем размер датафрейма\n",
    "data_train.shape"
   ]
  },
  {
   "cell_type": "code",
   "execution_count": 12,
   "id": "a3384b9b",
   "metadata": {},
   "outputs": [],
   "source": [
    "# Для удобства переименуем переменную категории в ее изначальное название\n",
    "data_train = data_train.rename(columns={'cart_x_x':'cart'})"
   ]
  },
  {
   "cell_type": "markdown",
   "id": "7f5f709a",
   "metadata": {},
   "source": [
    "## Feature engineering (создание объясняющих переменных)"
   ]
  },
  {
   "cell_type": "markdown",
   "id": "3e3d2d55",
   "metadata": {},
   "source": [
    "Теперь из получившегося датасета мы можем создать таблицу, где для таргета будут созданы объясняющие переменные.\n",
    "Например, можно сделать столбцы со следующей информацией,\n",
    "\n",
    "относящейся к категориям:\n",
    "- общее количество заказов с этой категорией,\n",
    "- популярность категории (можно отранжировать все заказы по популярности и составить рейтинг)\n",
    "\n",
    "относящейся к пользователям:\n",
    "- общее количество заказов данного пользователя, \n",
    "- средний размер корзины пользователя (сколько всего категорий в заказе)\n",
    "\n",
    "относящейся к паре пользователь-категория:\n",
    "- бинарная переменная, является ли товар любимым у пользователя (1 - если да, 0 - нет)\n",
    "- популярность категории у пользователя (количество заказов с этой категорией по отношению к числу всех его заказов)"
   ]
  },
  {
   "cell_type": "code",
   "execution_count": 13,
   "id": "695cbd8c",
   "metadata": {},
   "outputs": [],
   "source": [
    "#Общее количество заказов с каждой категорией \n",
    "total_orders_per_category = data_train.groupby('cart') \\\n",
    ".agg({'order_number':'nunique'}).rename(columns={'order_number':'total_orders_per_category'})\n",
    "\n",
    "#Популярность категории\n",
    "popularity = total_orders_per_category.sort_values(by='total_orders_per_category', ascending=False) \\\n",
    ".rank(ascending=False).astype(int) \\\n",
    ".rename(columns={'total_orders_per_category':'popularity'})\n",
    "\n",
    "#Общее количество заказов каждого пользователя\n",
    "total_orders_per_user = data_train.groupby('user_id') \\\n",
    ".agg({'order_number':'nunique'}) \\\n",
    ".rename(columns={'order_number':'total_orders_per_user'})\n",
    "\n",
    "#Размер корзины пользователя\n",
    "customer_basket_size = data_train \\\n",
    ".groupby(['user_id','order_number'],as_index=False).agg({'cart':'nunique'}) \\\n",
    ".groupby('user_id').agg({'cart':'mean'}) \\\n",
    ".rename(columns={'cart':'customer_basket_size'})\n",
    "\n",
    "# Создаем переменную, которая хранит в себе самую часто покупаемую категорию для каждого пользователя\n",
    "favorite = data_train.rename(columns={'cart':'favorite'}).groupby('user_id')['favorite'].apply(lambda x: x.value_counts().idxmax())\n",
    "\n",
    "#Создаем переменную, которая хранит в себе количество заказов этой категории по отношнию ко всем его заказам\n",
    "popularity_per_user = (data_train.groupby(['user_id','cart'])['order_number'] \\\n",
    ".count()/data_train.groupby(['user_id'])['order_number'].count()).reset_index() \\\n",
    ".rename(columns={'order_number':'popularity_per_user'})"
   ]
  },
  {
   "cell_type": "markdown",
   "id": "cd26a0b7",
   "metadata": {},
   "source": [
    "Теперь присоединим столбцы к тренировочному датафрейму"
   ]
  },
  {
   "cell_type": "code",
   "execution_count": 14,
   "id": "5d698acd",
   "metadata": {},
   "outputs": [],
   "source": [
    "data_train = data_train.merge(total_orders_per_category, on='cart',how='left')\n",
    "data_train = data_train.merge(popularity, on='cart',how='left')\n",
    "data_train = data_train.merge(total_orders_per_user, on='user_id',how='left')\n",
    "data_train = data_train.merge(customer_basket_size, on='user_id',how='left')\n",
    "data_train = data_train.merge(favorite, on='user_id',how='left')\n",
    "data_train = data_train.merge(popularity_per_user, on=['user_id','cart'],how='left')\n",
    "\n",
    "#После джойна также надо создать колонку, в которой будет 1, если категория является любмой и 0, если нет\n",
    "data_train['favorite'] = np.where(data_train.cart==data_train.favorite,1,0)"
   ]
  },
  {
   "cell_type": "code",
   "execution_count": 15,
   "id": "bf029cac",
   "metadata": {},
   "outputs": [
    {
     "data": {
      "text/html": [
       "<div>\n",
       "<style scoped>\n",
       "    .dataframe tbody tr th:only-of-type {\n",
       "        vertical-align: middle;\n",
       "    }\n",
       "\n",
       "    .dataframe tbody tr th {\n",
       "        vertical-align: top;\n",
       "    }\n",
       "\n",
       "    .dataframe thead th {\n",
       "        text-align: right;\n",
       "    }\n",
       "</style>\n",
       "<table border=\"1\" class=\"dataframe\">\n",
       "  <thead>\n",
       "    <tr style=\"text-align: right;\">\n",
       "      <th></th>\n",
       "      <th>user_id</th>\n",
       "      <th>order_completed_at</th>\n",
       "      <th>cart</th>\n",
       "      <th>order_number</th>\n",
       "      <th>target</th>\n",
       "      <th>total_orders_per_category</th>\n",
       "      <th>popularity</th>\n",
       "      <th>total_orders_per_user</th>\n",
       "      <th>customer_basket_size</th>\n",
       "      <th>favorite</th>\n",
       "      <th>popularity_per_user</th>\n",
       "    </tr>\n",
       "  </thead>\n",
       "  <tbody>\n",
       "    <tr>\n",
       "      <th>0</th>\n",
       "      <td>2</td>\n",
       "      <td>2015-03-22 09:25:46</td>\n",
       "      <td>399</td>\n",
       "      <td>12</td>\n",
       "      <td>0</td>\n",
       "      <td>65</td>\n",
       "      <td>99</td>\n",
       "      <td>10</td>\n",
       "      <td>12.9</td>\n",
       "      <td>0</td>\n",
       "      <td>0.006711</td>\n",
       "    </tr>\n",
       "    <tr>\n",
       "      <th>1</th>\n",
       "      <td>2</td>\n",
       "      <td>2015-03-22 09:25:46</td>\n",
       "      <td>14</td>\n",
       "      <td>12</td>\n",
       "      <td>0</td>\n",
       "      <td>79</td>\n",
       "      <td>4</td>\n",
       "      <td>10</td>\n",
       "      <td>12.9</td>\n",
       "      <td>0</td>\n",
       "      <td>0.006711</td>\n",
       "    </tr>\n",
       "    <tr>\n",
       "      <th>2</th>\n",
       "      <td>2</td>\n",
       "      <td>2015-03-22 09:25:46</td>\n",
       "      <td>198</td>\n",
       "      <td>12</td>\n",
       "      <td>0</td>\n",
       "      <td>70</td>\n",
       "      <td>60</td>\n",
       "      <td>10</td>\n",
       "      <td>12.9</td>\n",
       "      <td>0</td>\n",
       "      <td>0.013423</td>\n",
       "    </tr>\n",
       "    <tr>\n",
       "      <th>3</th>\n",
       "      <td>2</td>\n",
       "      <td>2015-03-22 09:25:46</td>\n",
       "      <td>88</td>\n",
       "      <td>12</td>\n",
       "      <td>0</td>\n",
       "      <td>78</td>\n",
       "      <td>6</td>\n",
       "      <td>10</td>\n",
       "      <td>12.9</td>\n",
       "      <td>0</td>\n",
       "      <td>0.013423</td>\n",
       "    </tr>\n",
       "    <tr>\n",
       "      <th>4</th>\n",
       "      <td>2</td>\n",
       "      <td>2015-03-22 09:25:46</td>\n",
       "      <td>157</td>\n",
       "      <td>12</td>\n",
       "      <td>0</td>\n",
       "      <td>70</td>\n",
       "      <td>60</td>\n",
       "      <td>10</td>\n",
       "      <td>12.9</td>\n",
       "      <td>0</td>\n",
       "      <td>0.013423</td>\n",
       "    </tr>\n",
       "  </tbody>\n",
       "</table>\n",
       "</div>"
      ],
      "text/plain": [
       "   user_id   order_completed_at  cart  order_number  target  \\\n",
       "0        2  2015-03-22 09:25:46   399            12       0   \n",
       "1        2  2015-03-22 09:25:46    14            12       0   \n",
       "2        2  2015-03-22 09:25:46   198            12       0   \n",
       "3        2  2015-03-22 09:25:46    88            12       0   \n",
       "4        2  2015-03-22 09:25:46   157            12       0   \n",
       "\n",
       "   total_orders_per_category  popularity  total_orders_per_user  \\\n",
       "0                         65          99                     10   \n",
       "1                         79           4                     10   \n",
       "2                         70          60                     10   \n",
       "3                         78           6                     10   \n",
       "4                         70          60                     10   \n",
       "\n",
       "   customer_basket_size  favorite  popularity_per_user  \n",
       "0                  12.9         0             0.006711  \n",
       "1                  12.9         0             0.006711  \n",
       "2                  12.9         0             0.013423  \n",
       "3                  12.9         0             0.013423  \n",
       "4                  12.9         0             0.013423  "
      ]
     },
     "execution_count": 15,
     "metadata": {},
     "output_type": "execute_result"
    }
   ],
   "source": [
    "data_train.head()"
   ]
  },
  {
   "cell_type": "markdown",
   "id": "226b4716",
   "metadata": {},
   "source": [
    "Посмотрим на график корреляции между переменными. Как видим, популярность категории и общее количество заказов с этой категорией абсолютно скоррелированы (что очевидно, так как популярность рассчитывалась на основе второй). Для логит регрессии опустим переменную общего числа заказов с этой категорией. "
   ]
  },
  {
   "cell_type": "code",
   "execution_count": 69,
   "id": "767c2058",
   "metadata": {},
   "outputs": [
    {
     "data": {
      "image/png": "[encoded data removed]",
      "text/plain": [
       "<Figure size 500x500 with 2 Axes>"
      ]
     },
     "metadata": {},
     "output_type": "display_data"
    }
   ],
   "source": [
    "import seaborn as sns\n",
    "import matplotlib.pyplot as plt\n",
    "\n",
    "data = data_train.drop(['user_id','order_completed_at'],axis=1)\n",
    "fig = plt.figure(figsize=(5, 5))\n",
    "sns.heatmap(data.corr())\n",
    "\n",
    "plt.show()"
   ]
  },
  {
   "cell_type": "markdown",
   "id": "fc35a83d",
   "metadata": {},
   "source": [
    "## Построение моделей"
   ]
  },
  {
   "cell_type": "code",
   "execution_count": 88,
   "id": "09ad84b4",
   "metadata": {},
   "outputs": [],
   "source": [
    "X = data_train.drop(['order_completed_at','target','popularity','user_id'],axis=1)\n",
    "y = data_train.target"
   ]
  },
  {
   "cell_type": "code",
   "execution_count": 89,
   "id": "e25059de",
   "metadata": {},
   "outputs": [],
   "source": [
    "# Создадим тренировочную и тестовую выборки\n",
    "X_train, X_test, y_train, y_test = train_test_split(X,y, test_size = 0.2)"
   ]
  },
  {
   "cell_type": "markdown",
   "id": "07e86925",
   "metadata": {},
   "source": [
    "### Logistic Regression\n",
    "Начнем с построения логистической регрессии с перебором параметров. По результам оценивания модели видим, что f-1 на тестовых данных равен 0,63"
   ]
  },
  {
   "cell_type": "code",
   "execution_count": 90,
   "id": "144bd343",
   "metadata": {},
   "outputs": [
    {
     "data": {
      "text/plain": [
       "GridSearchCV(cv=StratifiedKFold(n_splits=5, random_state=5, shuffle=True),\n",
       "             estimator=LogisticRegression(class_weight='balanced',\n",
       "                                          random_state=42),\n",
       "             n_jobs=-1, param_grid={'C': (1e-05, 0.0001, 0.001, 0.01, 0.1)},\n",
       "             scoring='f1')"
      ]
     },
     "execution_count": 90,
     "metadata": {},
     "output_type": "execute_result"
    }
   ],
   "source": [
    "#так как логит чувствительна к масштабированию, отсандартизуем переменные\n",
    "from sklearn.preprocessing import StandardScaler\n",
    "scal = StandardScaler()\n",
    "lrCV.fit(scal.fit_transform(X),y)"
   ]
  },
  {
   "cell_type": "code",
   "execution_count": 91,
   "id": "65044558",
   "metadata": {},
   "outputs": [
    {
     "name": "stdout",
     "output_type": "stream",
     "text": [
      "              precision    recall  f1-score   support\n",
      "\n",
      "           0       0.79      0.68      0.73    355183\n",
      "           1       0.57      0.70      0.63    211833\n",
      "\n",
      "    accuracy                           0.69    567016\n",
      "   macro avg       0.68      0.69      0.68    567016\n",
      "weighted avg       0.71      0.69      0.69    567016\n",
      "\n"
     ]
    }
   ],
   "source": [
    "predicted = lrCV.predict(scal.fit_transform(X_test))\n",
    "print(classification_report(y_test,predicted))"
   ]
  },
  {
   "cell_type": "code",
   "execution_count": 62,
   "id": "d46df7b9",
   "metadata": {},
   "outputs": [
    {
     "name": "stdout",
     "output_type": "stream",
     "text": [
      "              precision    recall  f1-score   support\n",
      "\n",
      "           0       0.79      0.68      0.73    354736\n",
      "           1       0.57      0.70      0.63    212280\n",
      "\n",
      "    accuracy                           0.69    567016\n",
      "   macro avg       0.68      0.69      0.68    567016\n",
      "weighted avg       0.71      0.69      0.69    567016\n",
      "\n"
     ]
    }
   ],
   "source": [
    "lr = LogisticRegression(random_state=42, class_weight='balanced')\n",
    "parameters = {'C': (0.00001, 0.0001, 0.001, 0.01, 0.1)}\n",
    "\n",
    "skf = StratifiedKFold(n_splits=5, shuffle=True, random_state=5)\n",
    "lrCV = GridSearchCV(lr,param_grid=parameters,cv=skf,n_jobs=-1,scoring=\"f1\")\n",
    "lrCV.fit(X,y)\n",
    "\n",
    "predicted = lrCV.predict(X_test)\n",
    "print(classification_report(y_test,predicted))"
   ]
  },
  {
   "cell_type": "code",
   "execution_count": 80,
   "id": "2fe0d174",
   "metadata": {},
   "outputs": [
    {
     "data": {
      "text/html": [
       "<div>\n",
       "<style scoped>\n",
       "    .dataframe tbody tr th:only-of-type {\n",
       "        vertical-align: middle;\n",
       "    }\n",
       "\n",
       "    .dataframe tbody tr th {\n",
       "        vertical-align: top;\n",
       "    }\n",
       "\n",
       "    .dataframe thead th {\n",
       "        text-align: right;\n",
       "    }\n",
       "</style>\n",
       "<table border=\"1\" class=\"dataframe\">\n",
       "  <thead>\n",
       "    <tr style=\"text-align: right;\">\n",
       "      <th></th>\n",
       "      <th>name</th>\n",
       "      <th>coef</th>\n",
       "    </tr>\n",
       "  </thead>\n",
       "  <tbody>\n",
       "    <tr>\n",
       "      <th>6</th>\n",
       "      <td>popularity_per_user</td>\n",
       "      <td>29.401226</td>\n",
       "    </tr>\n",
       "    <tr>\n",
       "      <th>5</th>\n",
       "      <td>favorite</td>\n",
       "      <td>0.258567</td>\n",
       "    </tr>\n",
       "    <tr>\n",
       "      <th>4</th>\n",
       "      <td>customer_basket_size</td>\n",
       "      <td>0.037584</td>\n",
       "    </tr>\n",
       "    <tr>\n",
       "      <th>1</th>\n",
       "      <td>total_orders_per_category</td>\n",
       "      <td>0.021998</td>\n",
       "    </tr>\n",
       "    <tr>\n",
       "      <th>3</th>\n",
       "      <td>total_orders_per_user</td>\n",
       "      <td>0.000418</td>\n",
       "    </tr>\n",
       "    <tr>\n",
       "      <th>0</th>\n",
       "      <td>cart</td>\n",
       "      <td>-0.001786</td>\n",
       "    </tr>\n",
       "    <tr>\n",
       "      <th>2</th>\n",
       "      <td>popularity</td>\n",
       "      <td>-0.005265</td>\n",
       "    </tr>\n",
       "  </tbody>\n",
       "</table>\n",
       "</div>"
      ],
      "text/plain": [
       "                        name       coef\n",
       "6        popularity_per_user  29.401226\n",
       "5                   favorite   0.258567\n",
       "4       customer_basket_size   0.037584\n",
       "1  total_orders_per_category   0.021998\n",
       "3      total_orders_per_user   0.000418\n",
       "0                       cart  -0.001786\n",
       "2                 popularity  -0.005265"
      ]
     },
     "execution_count": 80,
     "metadata": {},
     "output_type": "execute_result"
    }
   ],
   "source": [
    "pd.DataFrame({'name':X.columns,'coef':list(lrCV.best_estimator_.coef_.flatten())}).sort_values('coef',ascending=False)"
   ]
  },
  {
   "cell_type": "markdown",
   "id": "d73c3b04",
   "metadata": {},
   "source": [
    "### Bagging classifier\n",
    "Теперь перейдем к ансамблевому методу. Результат он выдает хуже, чем для модели"
   ]
  },
  {
   "cell_type": "code",
   "execution_count": 64,
   "id": "3db0aeb0",
   "metadata": {},
   "outputs": [
    {
     "ename": "NameError",
     "evalue": "name 'bg2' is not defined",
     "output_type": "error",
     "traceback": [
      "\u001b[1;31m---------------------------------------------------------------------------\u001b[0m",
      "\u001b[1;31mNameError\u001b[0m                                 Traceback (most recent call last)",
      "\u001b[1;32m~\\AppData\\Local\\Temp\\ipykernel_7672\\2786201001.py\u001b[0m in \u001b[0;36m<module>\u001b[1;34m\u001b[0m\n\u001b[0;32m      1\u001b[0m \u001b[0mbg\u001b[0m \u001b[1;33m=\u001b[0m \u001b[0mBaggingClassifier\u001b[0m\u001b[1;33m(\u001b[0m\u001b[0mlrCV\u001b[0m\u001b[1;33m.\u001b[0m\u001b[0mbest_estimator_\u001b[0m\u001b[1;33m,\u001b[0m\u001b[0mmax_features\u001b[0m\u001b[1;33m=\u001b[0m\u001b[1;36m4\u001b[0m\u001b[1;33m,\u001b[0m\u001b[0mn_estimators\u001b[0m\u001b[1;33m=\u001b[0m\u001b[1;36m100\u001b[0m\u001b[1;33m)\u001b[0m\u001b[1;33m\u001b[0m\u001b[1;33m\u001b[0m\u001b[0m\n\u001b[0;32m      2\u001b[0m \u001b[0mbg\u001b[0m\u001b[1;33m.\u001b[0m\u001b[0mfit\u001b[0m\u001b[1;33m(\u001b[0m\u001b[0mX\u001b[0m\u001b[1;33m,\u001b[0m\u001b[0my\u001b[0m\u001b[1;33m)\u001b[0m\u001b[1;33m\u001b[0m\u001b[1;33m\u001b[0m\u001b[0m\n\u001b[1;32m----> 3\u001b[1;33m \u001b[0mpredicted_bg\u001b[0m \u001b[1;33m=\u001b[0m \u001b[0mbg2\u001b[0m\u001b[1;33m.\u001b[0m\u001b[0mpredict\u001b[0m\u001b[1;33m(\u001b[0m\u001b[0mX_test\u001b[0m\u001b[1;33m)\u001b[0m\u001b[1;33m\u001b[0m\u001b[1;33m\u001b[0m\u001b[0m\n\u001b[0m\u001b[0;32m      4\u001b[0m \u001b[0mprint\u001b[0m\u001b[1;33m(\u001b[0m\u001b[0mclassification_report\u001b[0m\u001b[1;33m(\u001b[0m\u001b[0my_test\u001b[0m\u001b[1;33m,\u001b[0m\u001b[0mpredicted_bg\u001b[0m\u001b[1;33m)\u001b[0m\u001b[1;33m)\u001b[0m\u001b[1;33m\u001b[0m\u001b[1;33m\u001b[0m\u001b[0m\n",
      "\u001b[1;31mNameError\u001b[0m: name 'bg2' is not defined"
     ]
    }
   ],
   "source": [
    "bg = BaggingClassifier(lrCV.best_estimator_,max_features=4,n_estimators=100)\n",
    "bg.fit(X,y)\n",
    "predicted_bg = bg.predict(X_test)\n",
    "print(classification_report(y_test,predicted_bg))"
   ]
  },
  {
   "cell_type": "markdown",
   "id": "b4bd6d1d",
   "metadata": {},
   "source": [
    "### Random Forest\n",
    "Настройка параметров для леса выполняется слишком долго, поэтому попробуем построить на базовой модели. Результат на Kaggle вышел хуже, чем при использовании логистической регрессии (потому что здесь совсем не были измнены параметры)."
   ]
  },
  {
   "cell_type": "code",
   "execution_count": 36,
   "id": "b8302410",
   "metadata": {},
   "outputs": [
    {
     "name": "stderr",
     "output_type": "stream",
     "text": [
      "C:\\Users\\bydag\\anaconda3\\lib\\site-packages\\sklearn\\base.py:493: FutureWarning: The feature names should match those that were passed during fit. Starting version 1.2, an error will be raised.\n",
      "Feature names unseen at fit time:\n",
      "- target\n",
      "Feature names must be in the same order as they were in fit.\n",
      "\n",
      "  warnings.warn(message, FutureWarning)\n"
     ]
    },
    {
     "ename": "ValueError",
     "evalue": "X has 8 features, but RandomForestClassifier is expecting 7 features as input.",
     "output_type": "error",
     "traceback": [
      "\u001b[1;31m---------------------------------------------------------------------------\u001b[0m",
      "\u001b[1;31mValueError\u001b[0m                                Traceback (most recent call last)",
      "\u001b[1;32m~\\AppData\\Local\\Temp\\ipykernel_7672\\2488200886.py\u001b[0m in \u001b[0;36m<module>\u001b[1;34m\u001b[0m\n\u001b[0;32m      8\u001b[0m \u001b[0mrf\u001b[0m \u001b[1;33m=\u001b[0m \u001b[0mRandomForestClassifier\u001b[0m\u001b[1;33m(\u001b[0m\u001b[0mn_estimators\u001b[0m\u001b[1;33m=\u001b[0m\u001b[1;36m100\u001b[0m\u001b[1;33m,\u001b[0m \u001b[0mn_jobs\u001b[0m\u001b[1;33m=\u001b[0m\u001b[1;33m-\u001b[0m\u001b[1;36m1\u001b[0m\u001b[1;33m,\u001b[0m \u001b[0mrandom_state\u001b[0m\u001b[1;33m=\u001b[0m\u001b[1;36m42\u001b[0m\u001b[1;33m,\u001b[0m \u001b[0mclass_weight\u001b[0m\u001b[1;33m=\u001b[0m\u001b[1;34m'balanced'\u001b[0m\u001b[1;33m)\u001b[0m\u001b[1;33m\u001b[0m\u001b[1;33m\u001b[0m\u001b[0m\n\u001b[0;32m      9\u001b[0m \u001b[0mrf\u001b[0m\u001b[1;33m.\u001b[0m\u001b[0mfit\u001b[0m\u001b[1;33m(\u001b[0m\u001b[0mX\u001b[0m\u001b[1;33m,\u001b[0m\u001b[0my\u001b[0m\u001b[1;33m)\u001b[0m\u001b[1;33m\u001b[0m\u001b[1;33m\u001b[0m\u001b[0m\n\u001b[1;32m---> 10\u001b[1;33m \u001b[0mpredicted_rf\u001b[0m \u001b[1;33m=\u001b[0m \u001b[0mrf\u001b[0m\u001b[1;33m.\u001b[0m\u001b[0mpredict\u001b[0m\u001b[1;33m(\u001b[0m\u001b[0mX_test\u001b[0m\u001b[1;33m)\u001b[0m\u001b[1;33m\u001b[0m\u001b[1;33m\u001b[0m\u001b[0m\n\u001b[0m\u001b[0;32m     11\u001b[0m \u001b[0mprint\u001b[0m\u001b[1;33m(\u001b[0m\u001b[0mclassification_report\u001b[0m\u001b[1;33m(\u001b[0m\u001b[0my_test\u001b[0m\u001b[1;33m,\u001b[0m\u001b[0mpredicted_rf\u001b[0m\u001b[1;33m)\u001b[0m\u001b[1;33m)\u001b[0m\u001b[1;33m\u001b[0m\u001b[1;33m\u001b[0m\u001b[0m\n",
      "\u001b[1;32m~\\anaconda3\\lib\\site-packages\\sklearn\\ensemble\\_forest.py\u001b[0m in \u001b[0;36mpredict\u001b[1;34m(self, X)\u001b[0m\n\u001b[0;32m    806\u001b[0m             \u001b[0mThe\u001b[0m \u001b[0mpredicted\u001b[0m \u001b[0mclasses\u001b[0m\u001b[1;33m.\u001b[0m\u001b[1;33m\u001b[0m\u001b[1;33m\u001b[0m\u001b[0m\n\u001b[0;32m    807\u001b[0m         \"\"\"\n\u001b[1;32m--> 808\u001b[1;33m         \u001b[0mproba\u001b[0m \u001b[1;33m=\u001b[0m \u001b[0mself\u001b[0m\u001b[1;33m.\u001b[0m\u001b[0mpredict_proba\u001b[0m\u001b[1;33m(\u001b[0m\u001b[0mX\u001b[0m\u001b[1;33m)\u001b[0m\u001b[1;33m\u001b[0m\u001b[1;33m\u001b[0m\u001b[0m\n\u001b[0m\u001b[0;32m    809\u001b[0m \u001b[1;33m\u001b[0m\u001b[0m\n\u001b[0;32m    810\u001b[0m         \u001b[1;32mif\u001b[0m \u001b[0mself\u001b[0m\u001b[1;33m.\u001b[0m\u001b[0mn_outputs_\u001b[0m \u001b[1;33m==\u001b[0m \u001b[1;36m1\u001b[0m\u001b[1;33m:\u001b[0m\u001b[1;33m\u001b[0m\u001b[1;33m\u001b[0m\u001b[0m\n",
      "\u001b[1;32m~\\anaconda3\\lib\\site-packages\\sklearn\\ensemble\\_forest.py\u001b[0m in \u001b[0;36mpredict_proba\u001b[1;34m(self, X)\u001b[0m\n\u001b[0;32m    848\u001b[0m         \u001b[0mcheck_is_fitted\u001b[0m\u001b[1;33m(\u001b[0m\u001b[0mself\u001b[0m\u001b[1;33m)\u001b[0m\u001b[1;33m\u001b[0m\u001b[1;33m\u001b[0m\u001b[0m\n\u001b[0;32m    849\u001b[0m         \u001b[1;31m# Check data\u001b[0m\u001b[1;33m\u001b[0m\u001b[1;33m\u001b[0m\u001b[0m\n\u001b[1;32m--> 850\u001b[1;33m         \u001b[0mX\u001b[0m \u001b[1;33m=\u001b[0m \u001b[0mself\u001b[0m\u001b[1;33m.\u001b[0m\u001b[0m_validate_X_predict\u001b[0m\u001b[1;33m(\u001b[0m\u001b[0mX\u001b[0m\u001b[1;33m)\u001b[0m\u001b[1;33m\u001b[0m\u001b[1;33m\u001b[0m\u001b[0m\n\u001b[0m\u001b[0;32m    851\u001b[0m \u001b[1;33m\u001b[0m\u001b[0m\n\u001b[0;32m    852\u001b[0m         \u001b[1;31m# Assign chunk of trees to jobs\u001b[0m\u001b[1;33m\u001b[0m\u001b[1;33m\u001b[0m\u001b[0m\n",
      "\u001b[1;32m~\\anaconda3\\lib\\site-packages\\sklearn\\ensemble\\_forest.py\u001b[0m in \u001b[0;36m_validate_X_predict\u001b[1;34m(self, X)\u001b[0m\n\u001b[0;32m    577\u001b[0m         Validate X whenever one tries to predict, apply, predict_proba.\"\"\"\n\u001b[0;32m    578\u001b[0m         \u001b[0mcheck_is_fitted\u001b[0m\u001b[1;33m(\u001b[0m\u001b[0mself\u001b[0m\u001b[1;33m)\u001b[0m\u001b[1;33m\u001b[0m\u001b[1;33m\u001b[0m\u001b[0m\n\u001b[1;32m--> 579\u001b[1;33m         \u001b[0mX\u001b[0m \u001b[1;33m=\u001b[0m \u001b[0mself\u001b[0m\u001b[1;33m.\u001b[0m\u001b[0m_validate_data\u001b[0m\u001b[1;33m(\u001b[0m\u001b[0mX\u001b[0m\u001b[1;33m,\u001b[0m \u001b[0mdtype\u001b[0m\u001b[1;33m=\u001b[0m\u001b[0mDTYPE\u001b[0m\u001b[1;33m,\u001b[0m \u001b[0maccept_sparse\u001b[0m\u001b[1;33m=\u001b[0m\u001b[1;34m\"csr\"\u001b[0m\u001b[1;33m,\u001b[0m \u001b[0mreset\u001b[0m\u001b[1;33m=\u001b[0m\u001b[1;32mFalse\u001b[0m\u001b[1;33m)\u001b[0m\u001b[1;33m\u001b[0m\u001b[1;33m\u001b[0m\u001b[0m\n\u001b[0m\u001b[0;32m    580\u001b[0m         \u001b[1;32mif\u001b[0m \u001b[0missparse\u001b[0m\u001b[1;33m(\u001b[0m\u001b[0mX\u001b[0m\u001b[1;33m)\u001b[0m \u001b[1;32mand\u001b[0m \u001b[1;33m(\u001b[0m\u001b[0mX\u001b[0m\u001b[1;33m.\u001b[0m\u001b[0mindices\u001b[0m\u001b[1;33m.\u001b[0m\u001b[0mdtype\u001b[0m \u001b[1;33m!=\u001b[0m \u001b[0mnp\u001b[0m\u001b[1;33m.\u001b[0m\u001b[0mintc\u001b[0m \u001b[1;32mor\u001b[0m \u001b[0mX\u001b[0m\u001b[1;33m.\u001b[0m\u001b[0mindptr\u001b[0m\u001b[1;33m.\u001b[0m\u001b[0mdtype\u001b[0m \u001b[1;33m!=\u001b[0m \u001b[0mnp\u001b[0m\u001b[1;33m.\u001b[0m\u001b[0mintc\u001b[0m\u001b[1;33m)\u001b[0m\u001b[1;33m:\u001b[0m\u001b[1;33m\u001b[0m\u001b[1;33m\u001b[0m\u001b[0m\n\u001b[0;32m    581\u001b[0m             \u001b[1;32mraise\u001b[0m \u001b[0mValueError\u001b[0m\u001b[1;33m(\u001b[0m\u001b[1;34m\"No support for np.int64 index based sparse matrices\"\u001b[0m\u001b[1;33m)\u001b[0m\u001b[1;33m\u001b[0m\u001b[1;33m\u001b[0m\u001b[0m\n",
      "\u001b[1;32m~\\anaconda3\\lib\\site-packages\\sklearn\\base.py\u001b[0m in \u001b[0;36m_validate_data\u001b[1;34m(self, X, y, reset, validate_separately, **check_params)\u001b[0m\n\u001b[0;32m    583\u001b[0m \u001b[1;33m\u001b[0m\u001b[0m\n\u001b[0;32m    584\u001b[0m         \u001b[1;32mif\u001b[0m \u001b[1;32mnot\u001b[0m \u001b[0mno_val_X\u001b[0m \u001b[1;32mand\u001b[0m \u001b[0mcheck_params\u001b[0m\u001b[1;33m.\u001b[0m\u001b[0mget\u001b[0m\u001b[1;33m(\u001b[0m\u001b[1;34m\"ensure_2d\"\u001b[0m\u001b[1;33m,\u001b[0m \u001b[1;32mTrue\u001b[0m\u001b[1;33m)\u001b[0m\u001b[1;33m:\u001b[0m\u001b[1;33m\u001b[0m\u001b[1;33m\u001b[0m\u001b[0m\n\u001b[1;32m--> 585\u001b[1;33m             \u001b[0mself\u001b[0m\u001b[1;33m.\u001b[0m\u001b[0m_check_n_features\u001b[0m\u001b[1;33m(\u001b[0m\u001b[0mX\u001b[0m\u001b[1;33m,\u001b[0m \u001b[0mreset\u001b[0m\u001b[1;33m=\u001b[0m\u001b[0mreset\u001b[0m\u001b[1;33m)\u001b[0m\u001b[1;33m\u001b[0m\u001b[1;33m\u001b[0m\u001b[0m\n\u001b[0m\u001b[0;32m    586\u001b[0m \u001b[1;33m\u001b[0m\u001b[0m\n\u001b[0;32m    587\u001b[0m         \u001b[1;32mreturn\u001b[0m \u001b[0mout\u001b[0m\u001b[1;33m\u001b[0m\u001b[1;33m\u001b[0m\u001b[0m\n",
      "\u001b[1;32m~\\anaconda3\\lib\\site-packages\\sklearn\\base.py\u001b[0m in \u001b[0;36m_check_n_features\u001b[1;34m(self, X, reset)\u001b[0m\n\u001b[0;32m    398\u001b[0m \u001b[1;33m\u001b[0m\u001b[0m\n\u001b[0;32m    399\u001b[0m         \u001b[1;32mif\u001b[0m \u001b[0mn_features\u001b[0m \u001b[1;33m!=\u001b[0m \u001b[0mself\u001b[0m\u001b[1;33m.\u001b[0m\u001b[0mn_features_in_\u001b[0m\u001b[1;33m:\u001b[0m\u001b[1;33m\u001b[0m\u001b[1;33m\u001b[0m\u001b[0m\n\u001b[1;32m--> 400\u001b[1;33m             raise ValueError(\n\u001b[0m\u001b[0;32m    401\u001b[0m                 \u001b[1;34mf\"X has {n_features} features, but {self.__class__.__name__} \"\u001b[0m\u001b[1;33m\u001b[0m\u001b[1;33m\u001b[0m\u001b[0m\n\u001b[0;32m    402\u001b[0m                 \u001b[1;34mf\"is expecting {self.n_features_in_} features as input.\"\u001b[0m\u001b[1;33m\u001b[0m\u001b[1;33m\u001b[0m\u001b[0m\n",
      "\u001b[1;31mValueError\u001b[0m: X has 8 features, but RandomForestClassifier is expecting 7 features as input."
     ]
    }
   ],
   "source": [
    "# rf = RandomForestClassifier(n_estimators=100, n_jobs=-1, random_state=42, \n",
    "#                             class_weight='balanced')\n",
    "# parameters = {'max_features': [1, 2, 4], 'min_samples_leaf': [3, 5, 7, 9], 'max_depth': [5,10,15]}\n",
    "# rfCV = RandomizedSearchCV(rf,cv=skf,param_distributions=parameters,n_jobs=-1, scoring=\"f1\",verbose=True)\n",
    "# rfCV.fit(X,y)\n",
    "# print(classification_report(y_test,predicted_bg))\n",
    "\n",
    "rf = RandomForestClassifier(n_estimators=100, n_jobs=-1, random_state=42, class_weight='balanced')\n",
    "rf.fit(X,y)"
   ]
  },
  {
   "cell_type": "code",
   "execution_count": 39,
   "id": "d9a34471",
   "metadata": {},
   "outputs": [
    {
     "name": "stdout",
     "output_type": "stream",
     "text": [
      "              precision    recall  f1-score   support\n",
      "\n",
      "           0       0.98      0.96      0.97    354736\n",
      "           1       0.94      0.97      0.95    212280\n",
      "\n",
      "    accuracy                           0.96    567016\n",
      "   macro avg       0.96      0.96      0.96    567016\n",
      "weighted avg       0.96      0.96      0.96    567016\n",
      "\n"
     ]
    }
   ],
   "source": [
    "predicted_rf = rf.predict(X_test)\n",
    "print(classification_report(y_test,predicted_rf))"
   ]
  },
  {
   "cell_type": "markdown",
   "id": "92dec55c",
   "metadata": {},
   "source": [
    "### CatBoost\n",
    "Попробуем напоследок градиентный бустинг. Хотя на тестовых данных в ноутбуке дает результат, как у логистической регрессии, на Kaggle показывает себя намного хуже."
   ]
  },
  {
   "cell_type": "code",
   "execution_count": 43,
   "id": "5589b083",
   "metadata": {},
   "outputs": [],
   "source": [
    "#! pip install catboost\n",
    "from catboost import CatBoostClassifier"
   ]
  },
  {
   "cell_type": "code",
   "execution_count": 59,
   "id": "5cac01b3",
   "metadata": {},
   "outputs": [
    {
     "name": "stdout",
     "output_type": "stream",
     "text": [
      "0:\tlearn: 0.6158684\ttest: 0.6158658\tbest: 0.6158658 (0)\ttotal: 535ms\tremaining: 8m 54s\n",
      "200:\tlearn: 0.4994135\ttest: 0.4994905\tbest: 0.4994905 (200)\ttotal: 1m 47s\tremaining: 7m 5s\n",
      "400:\tlearn: 0.4876681\ttest: 0.4878088\tbest: 0.4878088 (400)\ttotal: 3m 40s\tremaining: 5m 29s\n",
      "600:\tlearn: 0.4787679\ttest: 0.4788769\tbest: 0.4788769 (600)\ttotal: 5m 45s\tremaining: 3m 49s\n",
      "800:\tlearn: 0.4712218\ttest: 0.4713773\tbest: 0.4713773 (800)\ttotal: 7m 31s\tremaining: 1m 52s\n",
      "999:\tlearn: 0.4645902\ttest: 0.4646721\tbest: 0.4646721 (999)\ttotal: 9m 18s\tremaining: 0us\n",
      "\n",
      "bestTest = 0.464672102\n",
      "bestIteration = 999\n",
      "\n",
      "              precision    recall  f1-score   support\n",
      "\n",
      "           0       0.79      0.88      0.83    354736\n",
      "           1       0.75      0.61      0.67    212280\n",
      "\n",
      "    accuracy                           0.78    567016\n",
      "   macro avg       0.77      0.74      0.75    567016\n",
      "weighted avg       0.77      0.78      0.77    567016\n",
      "\n"
     ]
    }
   ],
   "source": [
    "from catboost import Pool\n",
    "params = {'verbose':200,'random_seed':42,'learning_rate':0.3}\n",
    "model = CatBoostClassifier(**params)\n",
    "\n",
    "\n",
    "X.drop('cart',axis=1)\n",
    "X_test.drop('cart',axis=1) \n",
    "\n",
    "\n",
    "\n",
    "train_data = Pool(data=X,\n",
    "                  label=y)\n",
    "\n",
    "valid_data = Pool(data=X_test,\n",
    "                  label=y_test)\n",
    "\n",
    "model.fit(train_data,eval_set=valid_data)\n",
    "predicted_cat = model.predict(X_test)\n",
    "print(classification_report(y_test,predicted_cat))"
   ]
  },
  {
   "cell_type": "markdown",
   "id": "7bb5de3b",
   "metadata": {},
   "source": [
    "### Light AutoML\n",
    "Также попробуем (идея взята из ноутбука по Титанику: https://www.kaggle.com/code/alexryzhkov/lightautoml-titanic-love/notebook#Step-0.0.-Install-LightAutoML)"
   ]
  },
  {
   "cell_type": "code",
   "execution_count": 94,
   "id": "596e093a",
   "metadata": {},
   "outputs": [],
   "source": [
    "#!pip install lightautoml\n",
    "from lightautoml.automl.presets.tabular_presets import TabularAutoML, TabularUtilizedAutoML\n",
    "from lightautoml.dataset.roles import DatetimeRole\n",
    "from lightautoml.tasks import Task\n",
    "\n",
    "\n",
    "def f1_metric(y_true, y_pred, **kwargs):\n",
    "    return f1_score(y_true, (y_pred > 0.5).astype(int), **kwargs)\n",
    "\n",
    "task = Task('binary', metric = f1_metric)\n",
    "roles = {\n",
    "    'target': 'target',\n",
    "    'drop': ['order_completed_at','order_number','user_id'],\n",
    "}\n",
    "\n",
    "\n",
    "automl = TabularUtilizedAutoML(task = task, \n",
    "                       timeout = 600,\n",
    "                       cpu_limit = 4,\n",
    "                       general_params = {'use_algos': [['linear_l2', 'lgb', 'lgb_tuned']]},\n",
    "                       reader_params = {'n_jobs': 4})\n",
    "oof_pred =  automl.fit_predict(data_train.drop('popularity',axis=1), roles=roles)"
   ]
  },
  {
   "cell_type": "code",
   "execution_count": 95,
   "id": "b29559d7",
   "metadata": {},
   "outputs": [
    {
     "name": "stdout",
     "output_type": "stream",
     "text": [
      "TEST score: 0.783522466519254\n"
     ]
    }
   ],
   "source": [
    "X_test['target'] = y_test\n",
    "test_pred = automl.predict(X_test)\n",
    "print('TEST score: {}'.format(f1_metric(X_test['target'].values, test_pred.data[:, 0])))"
   ]
  },
  {
   "cell_type": "markdown",
   "id": "ed0d9082",
   "metadata": {},
   "source": [
    "## Переходим к тестовому датасету"
   ]
  },
  {
   "cell_type": "code",
   "execution_count": 55,
   "id": "3757edae",
   "metadata": {},
   "outputs": [],
   "source": [
    "# Создаем отдельные колонки для user_id и категории\n",
    "sub[['user_id', 'cart']] = sub['id'].str.split(';', expand=True).astype('int64')\n",
    "\n",
    "# Подтягиваем все нужные дополнительные объясняющие переменные\n",
    "sub = sub.merge(total_orders_per_category, on='cart',how='left')\n",
    "sub = sub.merge(popularity, on='cart',how='left')\n",
    "sub = sub.merge(total_orders_per_user, on='user_id',how='left')\n",
    "sub = sub.merge(customer_basket_size, on='user_id',how='left')\n",
    "sub = sub.merge(favorite, on='user_id',how='left')\n",
    "sub = sub.merge(popularity_per_user, on=['user_id','cart'],how='left')\n",
    "sub['favorite'] = np.where(sub.cart==sub.favorite,1,0)\n",
    "\n",
    "# Дропаем ненужные колонки\n",
    "user_id = sub['user_id']\n",
    "sub = sub.drop(['target','id','user_id'],axis=1)\n",
    "\n",
    "#В тестовом датафрейме есть категории, которых не было в тренировочном \n",
    "# (категории, которые были заказаны в последнем заказе), так что по этим категориям NA заполняем нулями\n",
    "sub[sub.isna().any(axis=1)]\n",
    "sub = sub.fillna(0)\n",
    "\n",
    "#Предсказываем значения таргета для каждой пары пользователь-категория\n",
    "\n",
    "sub['target'] = lrCV.predict(sub)\n",
    "sub['user_id'] = user_id\n",
    "\n",
    "# Снова создаем переменную пользователь-категория\n",
    "sub['id'] = sub.user_id.astype(str)+';'+sub.cart.astype(str)\n",
    "\n",
    "# Дропаем ненужные столбцы\n",
    "sub.drop(['user_id','cart','total_orders_per_category','popularity','total_orders_per_user','customer_basket_size','favorite','popularity_per_user'],axis=1)\n",
    "\n",
    "# Создаем нужный нам порядок переменных\n",
    "sub = sub[['id','target']]\n",
    "\n",
    "# Запсываем результат в csv файл\n",
    "sub.to_csv('submission.csv', index = False)"
   ]
  },
  {
   "cell_type": "markdown",
   "id": "d4d84f28",
   "metadata": {},
   "source": [
    "Для Light AutoML делаем отдельно"
   ]
  },
  {
   "cell_type": "code",
   "execution_count": null,
   "id": "53fc7475",
   "metadata": {},
   "outputs": [],
   "source": [
    "# Создаем отдельные колонки для user_id и категории\n",
    "sub[['user_id', 'cart']] = sub['id'].str.split(';', expand=True).astype('int64')\n",
    "\n",
    "# Подтягиваем все нужные дополнительные объясняющие переменные\n",
    "sub = sub.merge(total_orders_per_category, on='cart',how='left')\n",
    "#sub = sub.merge(popularity, on='cart',how='left')\n",
    "sub = sub.merge(total_orders_per_user, on='user_id',how='left')\n",
    "sub = sub.merge(customer_basket_size, on='user_id',how='left')\n",
    "sub = sub.merge(favorite, on='user_id',how='left')\n",
    "sub = sub.merge(popularity_per_user, on=['user_id','cart'],how='left')\n",
    "sub['favorite'] = np.where(sub.cart==sub.favorite,1,0)\n",
    "\n",
    "# Дропаем ненужные колонки\n",
    "user_id = sub['user_id']\n",
    "sub = sub.drop(['id','user_id'],axis=1)\n",
    "\n",
    "#В тестовом датафрейме есть категории, которых не было в тренировочном \n",
    "# (категории, которые были заказаны в последнем заказе), так что по этим категориям NA заполняем нулями\n",
    "sub[sub.isna().any(axis=1)]\n",
    "sub = sub.fillna(0)\n",
    "\n",
    "#Предсказываем значения таргета для каждой пары пользователь-категория\n",
    "\n",
    "sub['target'] = (automl.predict(sub).data[:, 0]> 0.5).astype(int)\n",
    "sub['user_id'] = user_id\n",
    "\n",
    "# Снова создаем переменную пользователь-категория\n",
    "sub['id'] = sub.user_id.astype(str)+';'+sub.cart.astype(str)\n",
    "\n",
    "# Дропаем ненужные столбцы\n",
    "sub.drop(['user_id','cart','total_orders_per_category','popularity','total_orders_per_user','customer_basket_size','favorite','popularity_per_user'],axis=1)\n",
    "\n",
    "# Создаем нужный нам порядок переменных\n",
    "sub = sub[['id','target']]\n",
    "\n",
    "# Запсываем результат в csv файл\n",
    "sub.to_csv('submission_automl.csv', index = False)"
   ]
  },
  {
   "cell_type": "code",
   "execution_count": null,
   "id": "0c5ffbcb",
   "metadata": {},
   "outputs": [],
   "source": [
    "sub.head()"
   ]
  }
 ],
 "metadata": {
  "kernelspec": {
   "display_name": "Python 3 (ipykernel)",
   "language": "python",
   "name": "python3"
  },
  "language_info": {
   "codemirror_mode": {
    "name": "ipython",
    "version": 3
   },
   "file_extension": ".py",
   "mimetype": "text/x-python",
   "name": "python",
   "nbconvert_exporter": "python",
   "pygments_lexer": "ipython3",
   "version": "3.9.13"
  }
 },
 "nbformat": 4,
 "nbformat_minor": 5
}
